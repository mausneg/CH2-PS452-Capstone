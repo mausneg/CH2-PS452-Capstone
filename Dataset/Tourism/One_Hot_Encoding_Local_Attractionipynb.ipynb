{
  "nbformat": 4,
  "nbformat_minor": 0,
  "metadata": {
    "colab": {
      "provenance": []
    },
    "kernelspec": {
      "name": "python3",
      "display_name": "Python 3"
    },
    "language_info": {
      "name": "python"
    }
  },
  "cells": [
    {
      "cell_type": "code",
      "execution_count": 1,
      "metadata": {
        "id": "L3sNO5AqvI-t"
      },
      "outputs": [],
      "source": [
        "import pandas as pd"
      ]
    },
    {
      "cell_type": "code",
      "source": [
        "# Memilih file yang diunggah\n",
        "from google.colab import files\n",
        "uploaded = files.upload()"
      ],
      "metadata": {
        "colab": {
          "base_uri": "https://localhost:8080/",
          "height": 93
        },
        "id": "FFjXmLHpviRR",
        "outputId": "646bf41c-15bb-40d1-bc94-13231ed5846e"
      },
      "execution_count": 11,
      "outputs": [
        {
          "output_type": "display_data",
          "data": {
            "text/plain": [
              "<IPython.core.display.HTML object>"
            ],
            "text/html": [
              "\n",
              "     <input type=\"file\" id=\"files-abac5b1c-a1e1-4fdb-a66e-4a1c47b860e4\" name=\"files[]\" multiple disabled\n",
              "        style=\"border:none\" />\n",
              "     <output id=\"result-abac5b1c-a1e1-4fdb-a66e-4a1c47b860e4\">\n",
              "      Upload widget is only available when the cell has been executed in the\n",
              "      current browser session. Please rerun this cell to enable.\n",
              "      </output>\n",
              "      <script>// Copyright 2017 Google LLC\n",
              "//\n",
              "// Licensed under the Apache License, Version 2.0 (the \"License\");\n",
              "// you may not use this file except in compliance with the License.\n",
              "// You may obtain a copy of the License at\n",
              "//\n",
              "//      http://www.apache.org/licenses/LICENSE-2.0\n",
              "//\n",
              "// Unless required by applicable law or agreed to in writing, software\n",
              "// distributed under the License is distributed on an \"AS IS\" BASIS,\n",
              "// WITHOUT WARRANTIES OR CONDITIONS OF ANY KIND, either express or implied.\n",
              "// See the License for the specific language governing permissions and\n",
              "// limitations under the License.\n",
              "\n",
              "/**\n",
              " * @fileoverview Helpers for google.colab Python module.\n",
              " */\n",
              "(function(scope) {\n",
              "function span(text, styleAttributes = {}) {\n",
              "  const element = document.createElement('span');\n",
              "  element.textContent = text;\n",
              "  for (const key of Object.keys(styleAttributes)) {\n",
              "    element.style[key] = styleAttributes[key];\n",
              "  }\n",
              "  return element;\n",
              "}\n",
              "\n",
              "// Max number of bytes which will be uploaded at a time.\n",
              "const MAX_PAYLOAD_SIZE = 100 * 1024;\n",
              "\n",
              "function _uploadFiles(inputId, outputId) {\n",
              "  const steps = uploadFilesStep(inputId, outputId);\n",
              "  const outputElement = document.getElementById(outputId);\n",
              "  // Cache steps on the outputElement to make it available for the next call\n",
              "  // to uploadFilesContinue from Python.\n",
              "  outputElement.steps = steps;\n",
              "\n",
              "  return _uploadFilesContinue(outputId);\n",
              "}\n",
              "\n",
              "// This is roughly an async generator (not supported in the browser yet),\n",
              "// where there are multiple asynchronous steps and the Python side is going\n",
              "// to poll for completion of each step.\n",
              "// This uses a Promise to block the python side on completion of each step,\n",
              "// then passes the result of the previous step as the input to the next step.\n",
              "function _uploadFilesContinue(outputId) {\n",
              "  const outputElement = document.getElementById(outputId);\n",
              "  const steps = outputElement.steps;\n",
              "\n",
              "  const next = steps.next(outputElement.lastPromiseValue);\n",
              "  return Promise.resolve(next.value.promise).then((value) => {\n",
              "    // Cache the last promise value to make it available to the next\n",
              "    // step of the generator.\n",
              "    outputElement.lastPromiseValue = value;\n",
              "    return next.value.response;\n",
              "  });\n",
              "}\n",
              "\n",
              "/**\n",
              " * Generator function which is called between each async step of the upload\n",
              " * process.\n",
              " * @param {string} inputId Element ID of the input file picker element.\n",
              " * @param {string} outputId Element ID of the output display.\n",
              " * @return {!Iterable<!Object>} Iterable of next steps.\n",
              " */\n",
              "function* uploadFilesStep(inputId, outputId) {\n",
              "  const inputElement = document.getElementById(inputId);\n",
              "  inputElement.disabled = false;\n",
              "\n",
              "  const outputElement = document.getElementById(outputId);\n",
              "  outputElement.innerHTML = '';\n",
              "\n",
              "  const pickedPromise = new Promise((resolve) => {\n",
              "    inputElement.addEventListener('change', (e) => {\n",
              "      resolve(e.target.files);\n",
              "    });\n",
              "  });\n",
              "\n",
              "  const cancel = document.createElement('button');\n",
              "  inputElement.parentElement.appendChild(cancel);\n",
              "  cancel.textContent = 'Cancel upload';\n",
              "  const cancelPromise = new Promise((resolve) => {\n",
              "    cancel.onclick = () => {\n",
              "      resolve(null);\n",
              "    };\n",
              "  });\n",
              "\n",
              "  // Wait for the user to pick the files.\n",
              "  const files = yield {\n",
              "    promise: Promise.race([pickedPromise, cancelPromise]),\n",
              "    response: {\n",
              "      action: 'starting',\n",
              "    }\n",
              "  };\n",
              "\n",
              "  cancel.remove();\n",
              "\n",
              "  // Disable the input element since further picks are not allowed.\n",
              "  inputElement.disabled = true;\n",
              "\n",
              "  if (!files) {\n",
              "    return {\n",
              "      response: {\n",
              "        action: 'complete',\n",
              "      }\n",
              "    };\n",
              "  }\n",
              "\n",
              "  for (const file of files) {\n",
              "    const li = document.createElement('li');\n",
              "    li.append(span(file.name, {fontWeight: 'bold'}));\n",
              "    li.append(span(\n",
              "        `(${file.type || 'n/a'}) - ${file.size} bytes, ` +\n",
              "        `last modified: ${\n",
              "            file.lastModifiedDate ? file.lastModifiedDate.toLocaleDateString() :\n",
              "                                    'n/a'} - `));\n",
              "    const percent = span('0% done');\n",
              "    li.appendChild(percent);\n",
              "\n",
              "    outputElement.appendChild(li);\n",
              "\n",
              "    const fileDataPromise = new Promise((resolve) => {\n",
              "      const reader = new FileReader();\n",
              "      reader.onload = (e) => {\n",
              "        resolve(e.target.result);\n",
              "      };\n",
              "      reader.readAsArrayBuffer(file);\n",
              "    });\n",
              "    // Wait for the data to be ready.\n",
              "    let fileData = yield {\n",
              "      promise: fileDataPromise,\n",
              "      response: {\n",
              "        action: 'continue',\n",
              "      }\n",
              "    };\n",
              "\n",
              "    // Use a chunked sending to avoid message size limits. See b/62115660.\n",
              "    let position = 0;\n",
              "    do {\n",
              "      const length = Math.min(fileData.byteLength - position, MAX_PAYLOAD_SIZE);\n",
              "      const chunk = new Uint8Array(fileData, position, length);\n",
              "      position += length;\n",
              "\n",
              "      const base64 = btoa(String.fromCharCode.apply(null, chunk));\n",
              "      yield {\n",
              "        response: {\n",
              "          action: 'append',\n",
              "          file: file.name,\n",
              "          data: base64,\n",
              "        },\n",
              "      };\n",
              "\n",
              "      let percentDone = fileData.byteLength === 0 ?\n",
              "          100 :\n",
              "          Math.round((position / fileData.byteLength) * 100);\n",
              "      percent.textContent = `${percentDone}% done`;\n",
              "\n",
              "    } while (position < fileData.byteLength);\n",
              "  }\n",
              "\n",
              "  // All done.\n",
              "  yield {\n",
              "    response: {\n",
              "      action: 'complete',\n",
              "    }\n",
              "  };\n",
              "}\n",
              "\n",
              "scope.google = scope.google || {};\n",
              "scope.google.colab = scope.google.colab || {};\n",
              "scope.google.colab._files = {\n",
              "  _uploadFiles,\n",
              "  _uploadFilesContinue,\n",
              "};\n",
              "})(self);\n",
              "</script> "
            ]
          },
          "metadata": {}
        },
        {
          "output_type": "stream",
          "name": "stdout",
          "text": [
            "Saving Local Attraction Dataset - Sheet1 - Local Attraction Dataset - Sheet1 (6).csv to Local Attraction Dataset - Sheet1 - Local Attraction Dataset - Sheet1 (6).csv\n"
          ]
        }
      ]
    },
    {
      "cell_type": "code",
      "source": [
        "# Mendapatkan nama file yang diunggah\n",
        "file_name = list(uploaded.keys())[0]"
      ],
      "metadata": {
        "id": "jD0akezCvn8B"
      },
      "execution_count": 12,
      "outputs": []
    },
    {
      "cell_type": "code",
      "source": [
        "# Mengimpor dataset dari file CSV\n",
        "df = pd.read_csv(file_name)"
      ],
      "metadata": {
        "id": "us90nvrAvpdZ"
      },
      "execution_count": 13,
      "outputs": []
    },
    {
      "cell_type": "code",
      "source": [
        "# Menampilkan data awal\n",
        "print(\"Data Awal:\")\n",
        "print(df)"
      ],
      "metadata": {
        "colab": {
          "base_uri": "https://localhost:8080/"
        },
        "id": "4t3xBz1jvrUA",
        "outputId": "7ab078c9-5dea-4c04-f009-3cc990b9823f"
      },
      "execution_count": 14,
      "outputs": [
        {
          "output_type": "stream",
          "name": "stdout",
          "text": [
            "Data Awal:\n",
            "     Place_Id                                 Place_Name  \\\n",
            "0           1                           Monumen Nasional   \n",
            "1           2                                   Kota Tua   \n",
            "2           3                              Dunia Fantasi   \n",
            "3           4          Taman Mini Indonesia Indah (TMII)   \n",
            "4           5                   Atlantis Water Adventure   \n",
            "..        ...                                        ...   \n",
            "432       433                        Museum Mpu Tantular   \n",
            "433       434                              Taman Bungkul   \n",
            "434       435           Taman Air Mancur Menari Kenjeran   \n",
            "435       436               Taman Flora Bratang Surabaya   \n",
            "436       437  Gereja Perawan Maria Tak Berdosa Surabaya   \n",
            "\n",
            "                                           Description  \\\n",
            "0    Monumen Nasional atau yang populer disingkat d...   \n",
            "1    Kota tua di Jakarta, yang juga bernama Kota Tu...   \n",
            "2    Dunia Fantasi atau disebut juga Dufan adalah t...   \n",
            "3    Taman Mini Indonesia Indah merupakan suatu kaw...   \n",
            "4    Atlantis Water Adventure atau dikenal dengan A...   \n",
            "..                                                 ...   \n",
            "432  Museum Negeri Mpu Tantular adalah sebuah museu...   \n",
            "433  Taman Bungkul adalah taman wisata kota yang te...   \n",
            "434  Air mancur menari atau dancing fountain juga a...   \n",
            "435  Taman Flora adalah salah satu taman kota di Su...   \n",
            "436  Gereja Katolik Kelahiran Santa Perawan Maria m...   \n",
            "\n",
            "                                 Category      City   Price  Rating  \\\n",
            "0                         Sejarah Edukasi   Jakarta   20000      46   \n",
            "1     Sejarah Edukasi,Seni Budaya,Kuliner   Jakarta       0      46   \n",
            "2                        Rekreasi,Hiburan   Jakarta  270000      46   \n",
            "3    Sejarah Edukasi,Seni Budaya,Rekreasi   Jakarta   10000      45   \n",
            "4                       Rekreasi,Olahraga   Jakarta   94000      45   \n",
            "..                                    ...       ...     ...     ...   \n",
            "432           Sejarah Edukasi,Seni Budaya  Surabaya    2000      44   \n",
            "433                               Hiburan  Surabaya       0      46   \n",
            "434                               Hiburan  Surabaya       0      44   \n",
            "435                               Hiburan  Surabaya       0      46   \n",
            "436                              Religius  Surabaya   10000      48   \n",
            "\n",
            "     Time_Minutes                                       Coordinate       Lat  \\\n",
            "0            15.0          {'lat': -6.1753924, 'lng': 106.8271528} -61753924   \n",
            "1            90.0  {'lat': -6.137644799999999, 'lng': 106.8171245} -61376448   \n",
            "2           360.0  {'lat': -6.125312399999999, 'lng': 106.8335377} -61253124   \n",
            "3             NaN  {'lat': -6.302445899999999, 'lng': 106.8951559} -63024459   \n",
            "4            60.0             {'lat': -6.12419, 'lng': 106.839134}   -612419   \n",
            "..            ...                                              ...       ...   \n",
            "432          45.0          {'lat': -7.4338593, 'lng': 112.7199058} -74338593   \n",
            "433           NaN  {'lat': -7.291346799999999, 'lng': 112.7398218} -72913468   \n",
            "434          45.0          {'lat': -7.2752955, 'lng': 112.7549381} -72752955   \n",
            "435           NaN  {'lat': -7.294330299999999, 'lng': 112.7617534} -72943303   \n",
            "436           NaN          {'lat': -7.2420758, 'lng': 112.7368158} -72420758   \n",
            "\n",
            "           Long  Column1   _1  Rating_Count  \n",
            "0    1068271528      NaN    1            18  \n",
            "1    1068171245      NaN    2            25  \n",
            "2    1068335377      NaN    3            19  \n",
            "3    1068951559      NaN    4            21  \n",
            "4     106839134      NaN    5            24  \n",
            "..          ...      ...  ...           ...  \n",
            "432  1127199058      NaN  433            20  \n",
            "433  1127398218      NaN  434            24  \n",
            "434  1127549381      NaN  435            15  \n",
            "435  1127617534      NaN  436            21  \n",
            "436  1127368158      NaN  437            35  \n",
            "\n",
            "[437 rows x 14 columns]\n"
          ]
        }
      ]
    },
    {
      "cell_type": "code",
      "source": [
        "# Memisahkan kolom Kategori yang terdiri dari beberapa kategori menjadi beberapa kolom\n",
        "kategori_df = df['Category'].str.get_dummies(',')"
      ],
      "metadata": {
        "id": "-qL8YSnbvtVu"
      },
      "execution_count": 15,
      "outputs": []
    },
    {
      "cell_type": "code",
      "source": [
        "# Menggabungkan DataFrame asli dengan DataFrame one-hot encoding\n",
        "df_encoded = pd.concat([df, kategori_df], axis=1)"
      ],
      "metadata": {
        "id": "59fDC_XRv7Np"
      },
      "execution_count": 16,
      "outputs": []
    },
    {
      "cell_type": "code",
      "source": [
        "# Menampilkan hasil setelah one-hot encoding\n",
        "print(\"\\nData setelah One-Hot Encoding:\")\n",
        "print(df_encoded)"
      ],
      "metadata": {
        "colab": {
          "base_uri": "https://localhost:8080/"
        },
        "id": "3dJSs8y3wR_f",
        "outputId": "db65a1eb-4900-40fc-9568-0c9acda7682e"
      },
      "execution_count": 17,
      "outputs": [
        {
          "output_type": "stream",
          "name": "stdout",
          "text": [
            "\n",
            "Data setelah One-Hot Encoding:\n",
            "     Place_Id                                 Place_Name  \\\n",
            "0           1                           Monumen Nasional   \n",
            "1           2                                   Kota Tua   \n",
            "2           3                              Dunia Fantasi   \n",
            "3           4          Taman Mini Indonesia Indah (TMII)   \n",
            "4           5                   Atlantis Water Adventure   \n",
            "..        ...                                        ...   \n",
            "432       433                        Museum Mpu Tantular   \n",
            "433       434                              Taman Bungkul   \n",
            "434       435           Taman Air Mancur Menari Kenjeran   \n",
            "435       436               Taman Flora Bratang Surabaya   \n",
            "436       437  Gereja Perawan Maria Tak Berdosa Surabaya   \n",
            "\n",
            "                                           Description  \\\n",
            "0    Monumen Nasional atau yang populer disingkat d...   \n",
            "1    Kota tua di Jakarta, yang juga bernama Kota Tu...   \n",
            "2    Dunia Fantasi atau disebut juga Dufan adalah t...   \n",
            "3    Taman Mini Indonesia Indah merupakan suatu kaw...   \n",
            "4    Atlantis Water Adventure atau dikenal dengan A...   \n",
            "..                                                 ...   \n",
            "432  Museum Negeri Mpu Tantular adalah sebuah museu...   \n",
            "433  Taman Bungkul adalah taman wisata kota yang te...   \n",
            "434  Air mancur menari atau dancing fountain juga a...   \n",
            "435  Taman Flora adalah salah satu taman kota di Su...   \n",
            "436  Gereja Katolik Kelahiran Santa Perawan Maria m...   \n",
            "\n",
            "                                 Category      City   Price  Rating  \\\n",
            "0                         Sejarah Edukasi   Jakarta   20000      46   \n",
            "1     Sejarah Edukasi,Seni Budaya,Kuliner   Jakarta       0      46   \n",
            "2                        Rekreasi,Hiburan   Jakarta  270000      46   \n",
            "3    Sejarah Edukasi,Seni Budaya,Rekreasi   Jakarta   10000      45   \n",
            "4                       Rekreasi,Olahraga   Jakarta   94000      45   \n",
            "..                                    ...       ...     ...     ...   \n",
            "432           Sejarah Edukasi,Seni Budaya  Surabaya    2000      44   \n",
            "433                               Hiburan  Surabaya       0      46   \n",
            "434                               Hiburan  Surabaya       0      44   \n",
            "435                               Hiburan  Surabaya       0      46   \n",
            "436                              Religius  Surabaya   10000      48   \n",
            "\n",
            "     Time_Minutes                                       Coordinate       Lat  \\\n",
            "0            15.0          {'lat': -6.1753924, 'lng': 106.8271528} -61753924   \n",
            "1            90.0  {'lat': -6.137644799999999, 'lng': 106.8171245} -61376448   \n",
            "2           360.0  {'lat': -6.125312399999999, 'lng': 106.8335377} -61253124   \n",
            "3             NaN  {'lat': -6.302445899999999, 'lng': 106.8951559} -63024459   \n",
            "4            60.0             {'lat': -6.12419, 'lng': 106.839134}   -612419   \n",
            "..            ...                                              ...       ...   \n",
            "432          45.0          {'lat': -7.4338593, 'lng': 112.7199058} -74338593   \n",
            "433           NaN  {'lat': -7.291346799999999, 'lng': 112.7398218} -72913468   \n",
            "434          45.0          {'lat': -7.2752955, 'lng': 112.7549381} -72752955   \n",
            "435           NaN  {'lat': -7.294330299999999, 'lng': 112.7617534} -72943303   \n",
            "436           NaN          {'lat': -7.2420758, 'lng': 112.7368158} -72420758   \n",
            "\n",
            "     ...   _1  Rating_Count  Alam  Hiburan  Kuliner  Olahraga  Rekreasi  \\\n",
            "0    ...    1            18     0        0        0         0         0   \n",
            "1    ...    2            25     0        0        1         0         0   \n",
            "2    ...    3            19     0        1        0         0         1   \n",
            "3    ...    4            21     0        0        0         0         1   \n",
            "4    ...    5            24     0        0        0         1         1   \n",
            "..   ...  ...           ...   ...      ...      ...       ...       ...   \n",
            "432  ...  433            20     0        0        0         0         0   \n",
            "433  ...  434            24     0        1        0         0         0   \n",
            "434  ...  435            15     0        1        0         0         0   \n",
            "435  ...  436            21     0        1        0         0         0   \n",
            "436  ...  437            35     0        0        0         0         0   \n",
            "\n",
            "     Religius  Sejarah Edukasi  Seni Budaya  \n",
            "0           0                1            0  \n",
            "1           0                1            1  \n",
            "2           0                0            0  \n",
            "3           0                1            1  \n",
            "4           0                0            0  \n",
            "..        ...              ...          ...  \n",
            "432         0                1            1  \n",
            "433         0                0            0  \n",
            "434         0                0            0  \n",
            "435         0                0            0  \n",
            "436         1                0            0  \n",
            "\n",
            "[437 rows x 22 columns]\n"
          ]
        }
      ]
    },
    {
      "cell_type": "code",
      "source": [
        "# Menyimpan DataFrame ke file CSV\n",
        "df_encoded.to_csv('data_encoded.csv', index=False)"
      ],
      "metadata": {
        "id": "KrWqpDDXwT4M"
      },
      "execution_count": 18,
      "outputs": []
    },
    {
      "cell_type": "code",
      "source": [
        "from google.colab import files\n",
        "files.download('data_encoded.csv')"
      ],
      "metadata": {
        "colab": {
          "base_uri": "https://localhost:8080/",
          "height": 17
        },
        "id": "Pcy8cL-nwfKq",
        "outputId": "b89ab1fb-652c-4488-eeaa-d44c2643ff33"
      },
      "execution_count": 19,
      "outputs": [
        {
          "output_type": "display_data",
          "data": {
            "text/plain": [
              "<IPython.core.display.Javascript object>"
            ],
            "application/javascript": [
              "\n",
              "    async function download(id, filename, size) {\n",
              "      if (!google.colab.kernel.accessAllowed) {\n",
              "        return;\n",
              "      }\n",
              "      const div = document.createElement('div');\n",
              "      const label = document.createElement('label');\n",
              "      label.textContent = `Downloading \"${filename}\": `;\n",
              "      div.appendChild(label);\n",
              "      const progress = document.createElement('progress');\n",
              "      progress.max = size;\n",
              "      div.appendChild(progress);\n",
              "      document.body.appendChild(div);\n",
              "\n",
              "      const buffers = [];\n",
              "      let downloaded = 0;\n",
              "\n",
              "      const channel = await google.colab.kernel.comms.open(id);\n",
              "      // Send a message to notify the kernel that we're ready.\n",
              "      channel.send({})\n",
              "\n",
              "      for await (const message of channel.messages) {\n",
              "        // Send a message to notify the kernel that we're ready.\n",
              "        channel.send({})\n",
              "        if (message.buffers) {\n",
              "          for (const buffer of message.buffers) {\n",
              "            buffers.push(buffer);\n",
              "            downloaded += buffer.byteLength;\n",
              "            progress.value = downloaded;\n",
              "          }\n",
              "        }\n",
              "      }\n",
              "      const blob = new Blob(buffers, {type: 'application/binary'});\n",
              "      const a = document.createElement('a');\n",
              "      a.href = window.URL.createObjectURL(blob);\n",
              "      a.download = filename;\n",
              "      div.appendChild(a);\n",
              "      a.click();\n",
              "      div.remove();\n",
              "    }\n",
              "  "
            ]
          },
          "metadata": {}
        },
        {
          "output_type": "display_data",
          "data": {
            "text/plain": [
              "<IPython.core.display.Javascript object>"
            ],
            "application/javascript": [
              "download(\"download_b388e309-cf0e-4baa-999e-cae94b7362d1\", \"data_encoded.csv\", 378638)"
            ]
          },
          "metadata": {}
        }
      ]
    },
    {
      "cell_type": "code",
      "source": [],
      "metadata": {
        "id": "JJ5vFwdrwhUd"
      },
      "execution_count": null,
      "outputs": []
    }
  ]
}