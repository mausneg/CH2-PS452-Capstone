{
 "cells": [
  {
   "cell_type": "code",
   "execution_count": 1,
   "metadata": {},
   "outputs": [],
   "source": [
    "import pandas as singgih"
   ]
  },
  {
   "cell_type": "code",
   "execution_count": 2,
   "metadata": {},
   "outputs": [],
   "source": [
    "DataUserCSV = singgih.read_csv('Raw\\google_review_ratings - Norm2.csv')"
   ]
  },
  {
   "cell_type": "code",
   "execution_count": 3,
   "metadata": {},
   "outputs": [],
   "source": [
    "UserDataFrame = singgih.DataFrame(DataUserCSV)"
   ]
  },
  {
   "cell_type": "code",
   "execution_count": 30,
   "metadata": {},
   "outputs": [],
   "source": [
    "ListColomn = [[] for _ in range(8)]\n",
    "for a in range (0,5456):\n",
    "    ListColomn[0].append(UserDataFrame['Alam'].iloc[a]/5)\n",
    "    ListColomn[1].append(UserDataFrame['Hiburan'].iloc[a]/5)\n",
    "    ListColomn[2].append(UserDataFrame['Kuliner'].iloc[a]/5)\n",
    "    ListColomn[3].append(UserDataFrame['Olahraga'].iloc[a]/5)\n",
    "    ListColomn[4].append(UserDataFrame['Rekreasi'].iloc[a]/5)\n",
    "    ListColomn[5].append(UserDataFrame['Religius'].iloc[a]/5)\n",
    "    ListColomn[6].append(UserDataFrame['Sejarah Edukasi'].iloc[a]/5)\n",
    "    ListColomn[7].append(UserDataFrame['Seni Budaya'].iloc[a]/5)"
   ]
  },
  {
   "cell_type": "code",
   "execution_count": 37,
   "metadata": {},
   "outputs": [],
   "source": [
    "ResultDataFrame = singgih.DataFrame({\n",
    "    'Alam': ListColomn[0],\n",
    "    'Hiburan': ListColomn[1],\n",
    "    'Kuliner': ListColomn[2],\n",
    "    'Olahraga': ListColomn[3],\n",
    "    'Rekreasi': ListColomn[4],\n",
    "    'Religius': ListColomn[5],\n",
    "    'Sejarah Edukasi': ListColomn[6],\n",
    "    'Seni Budaya': ListColomn[7]\n",
    "})\n",
    "ResultDataFrame.to_csv('HasilUser.csv', index=False)"
   ]
  }
 ],
 "metadata": {
  "kernelspec": {
   "display_name": "Python 3",
   "language": "python",
   "name": "python3"
  },
  "language_info": {
   "codemirror_mode": {
    "name": "ipython",
    "version": 3
   },
   "file_extension": ".py",
   "mimetype": "text/x-python",
   "name": "python",
   "nbconvert_exporter": "python",
   "pygments_lexer": "ipython3",
   "version": "3.11.6"
  }
 },
 "nbformat": 4,
 "nbformat_minor": 2
}
