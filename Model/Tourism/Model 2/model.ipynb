{
 "cells": [
  {
   "cell_type": "code",
   "execution_count": 22,
   "metadata": {},
   "outputs": [],
   "source": [
    "import tensorflow_recommenders as tfrs\n",
    "import tensorflow as tf\n",
    "import pandas as pd\n",
    "import numpy as np\n",
    "import pickle as pkl\n",
    "from typing import Dict, Text"
   ]
  },
  {
   "cell_type": "code",
   "execution_count": 23,
   "metadata": {},
   "outputs": [],
   "source": [
    "df_ratings = pd.read_csv(\"../../../Dataset/Tourism Rating/raw/tourism_rating.csv\")   \n",
    "df_tourism = pd.read_csv(\"../../../Dataset/Tourism/tourism.csv\")\n"
   ]
  },
  {
   "cell_type": "code",
   "execution_count": 24,
   "metadata": {},
   "outputs": [
    {
     "data": {
      "text/plain": [
       "Index(['User_Id', 'Place_Id', 'Place_Ratings'], dtype='object')"
      ]
     },
     "execution_count": 24,
     "metadata": {},
     "output_type": "execute_result"
    }
   ],
   "source": [
    "df_ratings.columns"
   ]
  },
  {
   "cell_type": "code",
   "execution_count": 25,
   "metadata": {},
   "outputs": [],
   "source": [
    "tourism = tf.data.Dataset.from_tensor_slices(dict(df_tourism))\n",
    "ratings = tf.data.Dataset.from_tensor_slices(dict(df_ratings))"
   ]
  },
  {
   "cell_type": "code",
   "execution_count": 26,
   "metadata": {},
   "outputs": [],
   "source": [
    "ratings = ratings.map(lambda x:{\n",
    "    \"user_id\":x[\"User_Id\"],\n",
    "    \"place_id\":x[\"Place_Id\"]\n",
    "})\n",
    "tourism = tourism.map(lambda x:x[\"Place_Id\"])"
   ]
  },
  {
   "cell_type": "code",
   "execution_count": 27,
   "metadata": {},
   "outputs": [
    {
     "name": "stdout",
     "output_type": "stream",
     "text": [
      "<MapDataset element_spec={'user_id': TensorSpec(shape=(), dtype=tf.int64, name=None), 'place_id': TensorSpec(shape=(), dtype=tf.int64, name=None)}>\n",
      "<MapDataset element_spec=TensorSpec(shape=(), dtype=tf.int64, name=None)>\n"
     ]
    }
   ],
   "source": [
    "print(ratings)\n",
    "print(tourism)"
   ]
  },
  {
   "cell_type": "code",
   "execution_count": 28,
   "metadata": {},
   "outputs": [],
   "source": [
    "user_vocab = tf.keras.layers.IntegerLookup(mask_token=None)\n",
    "user_vocab.adapt(ratings.map(lambda x: x[\"user_id\"]))\n",
    "\n",
    "tourism_vocab = tf.keras.layers.IntegerLookup(mask_token=None)\n",
    "tourism_vocab.adapt(tourism)"
   ]
  },
  {
   "cell_type": "code",
   "execution_count": 29,
   "metadata": {},
   "outputs": [
    {
     "name": "stdout",
     "output_type": "stream",
     "text": [
      "[-1, 267, 276, 143, 40, 142, 17, 54, 49, 242, 184, 19, 289, 247, 227, 168, 157, 105, 99, 294, 179, 91, 86, 74, 230, 198, 170, 159, 144, 126, 97, 53, 31, 28, 283, 274, 258, 206, 195, 194, 167, 146, 107, 65, 38, 299, 200, 187, 160, 131, 124, 116, 45, 44, 33, 27, 288, 228, 212, 208, 178, 173, 136, 93, 92, 67, 58, 287, 263, 262, 261, 260, 257, 250, 234, 224, 204, 182, 181, 145, 134, 94, 78, 297, 296, 286, 282, 277, 239, 231, 223, 201, 192, 175, 149, 117, 84, 71, 57, 55, 15, 273, 240, 226, 222, 216, 202, 165, 164, 139, 138, 137, 113, 108, 102, 76, 68, 64, 61, 30, 26, 292, 285, 272, 265, 255, 248, 189, 185, 174, 163, 135, 133, 127, 123, 118, 106, 96, 79, 63, 32, 29, 20, 18, 12, 281, 264, 244, 235, 214, 158, 147, 128, 120, 114, 104, 103, 80, 36, 25, 14, 9, 5, 295, 268, 256, 243, 233, 210, 193, 171, 162, 150, 129, 125, 98, 87, 83, 59, 51, 23, 290, 280, 238, 237, 229, 217, 215, 190, 172, 169, 161, 140, 122, 90, 66, 56, 43, 37, 35, 298, 278, 269, 225, 220, 213, 203, 199, 196, 186, 176, 155, 152, 148, 112, 77, 70, 46, 42, 3, 1, 246, 232, 219, 218, 209, 188, 177, 166, 156, 154, 121, 100, 85, 62, 52, 50, 22, 16, 2, 291, 270, 266, 221, 211, 207, 183, 141, 132, 130, 110, 95, 75, 72, 11, 10, 8, 6, 284, 271, 251, 249, 191, 119, 111, 109, 101, 89, 88, 7, 300, 279, 253, 252, 245, 197, 47, 39, 4, 293, 236, 205, 180, 153, 115, 34, 13, 254, 241, 82, 69, 41, 24, 275, 259, 81, 73, 151, 48, 21, 60]\n",
      "[-1, 437, 436, 435, 434, 433, 432, 431, 430, 429, 428, 427, 426, 425, 424, 423, 422, 421, 420, 419, 418, 417, 416, 415, 414, 413, 412, 411, 410, 409, 408, 407, 406, 405, 404, 403, 402, 401, 400, 399, 398, 397, 396, 395, 394, 393, 392, 391, 390, 389, 388, 387, 386, 385, 384, 383, 382, 381, 380, 379, 378, 377, 376, 375, 374, 373, 372, 371, 370, 369, 368, 367, 366, 365, 364, 363, 362, 361, 360, 359, 358, 357, 356, 355, 354, 353, 352, 351, 350, 349, 348, 347, 346, 345, 344, 343, 342, 341, 340, 339, 338, 337, 336, 335, 334, 333, 332, 331, 330, 329, 328, 327, 326, 325, 324, 323, 322, 321, 320, 319, 318, 317, 316, 315, 314, 313, 312, 311, 310, 309, 308, 307, 306, 305, 304, 303, 302, 301, 300, 299, 298, 297, 296, 295, 294, 293, 292, 291, 290, 289, 288, 287, 286, 285, 284, 283, 282, 281, 280, 279, 278, 277, 276, 275, 274, 273, 272, 271, 270, 269, 268, 267, 266, 265, 264, 263, 262, 261, 260, 259, 258, 257, 256, 255, 254, 253, 252, 251, 250, 249, 248, 247, 246, 245, 244, 243, 242, 241, 240, 239, 238, 237, 236, 235, 234, 233, 232, 231, 230, 229, 228, 227, 226, 225, 224, 223, 222, 221, 220, 219, 218, 217, 216, 215, 214, 213, 212, 211, 210, 209, 208, 207, 206, 205, 204, 203, 202, 201, 200, 199, 198, 197, 196, 195, 194, 193, 192, 191, 190, 189, 188, 187, 186, 185, 184, 183, 182, 181, 180, 179, 178, 177, 176, 175, 174, 173, 172, 171, 170, 169, 168, 167, 166, 165, 164, 163, 162, 161, 160, 159, 158, 157, 156, 155, 154, 153, 152, 151, 150, 149, 148, 147, 146, 145, 144, 143, 142, 141, 140, 139, 138, 137, 136, 135, 134, 133, 132, 131, 130, 129, 128, 127, 126, 125, 124, 123, 122, 121, 120, 119, 118, 117, 116, 115, 114, 113, 112, 111, 110, 109, 108, 107, 106, 105, 104, 103, 102, 101, 100, 99, 98, 97, 96, 95, 94, 93, 92, 91, 90, 89, 88, 87, 86, 85, 84, 83, 82, 81, 80, 79, 78, 77, 76, 75, 74, 73, 72, 71, 70, 69, 68, 67, 66, 65, 64, 63, 62, 61, 60, 59, 58, 57, 56, 55, 54, 53, 52, 51, 50, 49, 48, 47, 46, 45, 44, 43, 42, 41, 40, 39, 38, 37, 36, 35, 34, 33, 32, 31, 30, 29, 28, 27, 26, 25, 24, 23, 22, 21, 20, 19, 18, 17, 16, 15, 14, 13, 12, 11, 10, 9, 8, 7, 6, 5, 4, 3, 2, 1]\n"
     ]
    }
   ],
   "source": [
    "print(user_vocab.get_vocabulary())\n",
    "print(tourism_vocab.get_vocabulary())"
   ]
  },
  {
   "cell_type": "code",
   "execution_count": 30,
   "metadata": {},
   "outputs": [],
   "source": [
    "class CollaborativeModel(tfrs.Model):\n",
    "    def __init__(self):\n",
    "        super().__init__()\n",
    "        self.user_model = tf.keras.Sequential([\n",
    "            user_vocab,\n",
    "            tf.keras.layers.Embedding(user_vocab.vocabulary_size(), 16)\n",
    "        ])\n",
    "        self.tourism_model = tf.keras.Sequential([\n",
    "            tourism_vocab,\n",
    "            tf.keras.layers.Embedding(tourism_vocab.vocabulary_size(), 16)\n",
    "        ])\n",
    "        self.task = tfrs.tasks.Retrieval(\n",
    "            metrics=tfrs.metrics.FactorizedTopK(\n",
    "                candidates=tourism.batch(128).map(self.tourism_model)\n",
    "            )\n",
    "        )\n",
    "    def compute_loss(self, features, training=False):\n",
    "        user_embeddings = self.user_model(features[\"user_id\"])\n",
    "        tourism_embeddings = self.tourism_model(features[\"place_id\"])\n",
    "        return self.task(user_embeddings, tourism_embeddings)"
   ]
  },
  {
   "cell_type": "code",
   "execution_count": 31,
   "metadata": {},
   "outputs": [
    {
     "name": "stdout",
     "output_type": "stream",
     "text": [
      "Epoch 1/10\n",
      "313/313 [==============================] - 33s 100ms/step - factorized_top_k/top_1_categorical_accuracy: 4.0000e-04 - factorized_top_k/top_5_categorical_accuracy: 0.0085 - factorized_top_k/top_10_categorical_accuracy: 0.0193 - factorized_top_k/top_50_categorical_accuracy: 0.1117 - factorized_top_k/top_100_categorical_accuracy: 0.2275 - loss: 110.4800 - regularization_loss: 0.0000e+00 - total_loss: 110.4800\n",
      "Epoch 2/10\n",
      "313/313 [==============================] - 41s 132ms/step - factorized_top_k/top_1_categorical_accuracy: 4.0000e-04 - factorized_top_k/top_5_categorical_accuracy: 0.0089 - factorized_top_k/top_10_categorical_accuracy: 0.0196 - factorized_top_k/top_50_categorical_accuracy: 0.1120 - factorized_top_k/top_100_categorical_accuracy: 0.2289 - loss: 110.4792 - regularization_loss: 0.0000e+00 - total_loss: 110.4792\n",
      "Epoch 3/10\n",
      "313/313 [==============================] - 55s 177ms/step - factorized_top_k/top_1_categorical_accuracy: 4.0000e-04 - factorized_top_k/top_5_categorical_accuracy: 0.0090 - factorized_top_k/top_10_categorical_accuracy: 0.0198 - factorized_top_k/top_50_categorical_accuracy: 0.1136 - factorized_top_k/top_100_categorical_accuracy: 0.2303 - loss: 110.4785 - regularization_loss: 0.0000e+00 - total_loss: 110.4785\n",
      "Epoch 4/10\n",
      "313/313 [==============================] - 52s 167ms/step - factorized_top_k/top_1_categorical_accuracy: 4.0000e-04 - factorized_top_k/top_5_categorical_accuracy: 0.0091 - factorized_top_k/top_10_categorical_accuracy: 0.0206 - factorized_top_k/top_50_categorical_accuracy: 0.1144 - factorized_top_k/top_100_categorical_accuracy: 0.2311 - loss: 110.4778 - regularization_loss: 0.0000e+00 - total_loss: 110.4778\n",
      "Epoch 5/10\n",
      "313/313 [==============================] - 28s 89ms/step - factorized_top_k/top_1_categorical_accuracy: 4.0000e-04 - factorized_top_k/top_5_categorical_accuracy: 0.0096 - factorized_top_k/top_10_categorical_accuracy: 0.0212 - factorized_top_k/top_50_categorical_accuracy: 0.1150 - factorized_top_k/top_100_categorical_accuracy: 0.2336 - loss: 110.4771 - regularization_loss: 0.0000e+00 - total_loss: 110.4771\n",
      "Epoch 6/10\n",
      "313/313 [==============================] - 27s 85ms/step - factorized_top_k/top_1_categorical_accuracy: 4.0000e-04 - factorized_top_k/top_5_categorical_accuracy: 0.0099 - factorized_top_k/top_10_categorical_accuracy: 0.0213 - factorized_top_k/top_50_categorical_accuracy: 0.1166 - factorized_top_k/top_100_categorical_accuracy: 0.2358 - loss: 110.4765 - regularization_loss: 0.0000e+00 - total_loss: 110.4765\n",
      "Epoch 7/10\n",
      "313/313 [==============================] - 33s 106ms/step - factorized_top_k/top_1_categorical_accuracy: 4.0000e-04 - factorized_top_k/top_5_categorical_accuracy: 0.0102 - factorized_top_k/top_10_categorical_accuracy: 0.0220 - factorized_top_k/top_50_categorical_accuracy: 0.1184 - factorized_top_k/top_100_categorical_accuracy: 0.2373 - loss: 110.4759 - regularization_loss: 0.0000e+00 - total_loss: 110.4759\n",
      "Epoch 8/10\n",
      "313/313 [==============================] - 37s 118ms/step - factorized_top_k/top_1_categorical_accuracy: 5.0000e-04 - factorized_top_k/top_5_categorical_accuracy: 0.0104 - factorized_top_k/top_10_categorical_accuracy: 0.0225 - factorized_top_k/top_50_categorical_accuracy: 0.1194 - factorized_top_k/top_100_categorical_accuracy: 0.2392 - loss: 110.4752 - regularization_loss: 0.0000e+00 - total_loss: 110.4752\n",
      "Epoch 9/10\n",
      "313/313 [==============================] - 32s 103ms/step - factorized_top_k/top_1_categorical_accuracy: 5.0000e-04 - factorized_top_k/top_5_categorical_accuracy: 0.0106 - factorized_top_k/top_10_categorical_accuracy: 0.0227 - factorized_top_k/top_50_categorical_accuracy: 0.1205 - factorized_top_k/top_100_categorical_accuracy: 0.2408 - loss: 110.4746 - regularization_loss: 0.0000e+00 - total_loss: 110.4746\n",
      "Epoch 10/10\n",
      "313/313 [==============================] - 31s 98ms/step - factorized_top_k/top_1_categorical_accuracy: 5.0000e-04 - factorized_top_k/top_5_categorical_accuracy: 0.0109 - factorized_top_k/top_10_categorical_accuracy: 0.0232 - factorized_top_k/top_50_categorical_accuracy: 0.1217 - factorized_top_k/top_100_categorical_accuracy: 0.2429 - loss: 110.4741 - regularization_loss: 0.0000e+00 - total_loss: 110.4741\n"
     ]
    },
    {
     "data": {
      "text/plain": [
       "<keras.callbacks.History at 0x226bf859460>"
      ]
     },
     "execution_count": 31,
     "metadata": {},
     "output_type": "execute_result"
    }
   ],
   "source": [
    "model = CollaborativeModel()\n",
    "model.compile(optimizer=tf.keras.optimizers.Adagrad())\n",
    "model.fit(ratings.batch(32), epochs=10)"
   ]
  },
  {
   "cell_type": "code",
   "execution_count": 32,
   "metadata": {},
   "outputs": [
    {
     "name": "stdout",
     "output_type": "stream",
     "text": [
      "Recommendations for user 1: [238 365 323 149 126 118 106 205  10 157]\n"
     ]
    }
   ],
   "source": [
    "index = tfrs.layers.factorized_top_k.BruteForce (model.user_model)\n",
    "no_user = 1\n",
    "index.index_from_dataset(tourism.batch(100).map(lambda place: (place,model.tourism_model(place))))\n",
    "_, titles = index(np.array([no_user]))\n",
    "print(f\"Recommendations for user {no_user}: {titles[0,:10]}\")"
   ]
  },
  {
   "cell_type": "code",
   "execution_count": 33,
   "metadata": {},
   "outputs": [],
   "source": [
    "pkl.dump(user_vocab.get_vocabulary(), open(\"./pickles/user_vocab.pkl\", \"wb\"))\n",
    "pkl.dump(tourism_vocab.get_vocabulary(), open(\"./pickles/tourism_vocab.pkl\", \"wb\"))\n",
    "tf.data.experimental.save(tourism, \"./tensor/tourism\")"
   ]
  },
  {
   "cell_type": "code",
   "execution_count": 34,
   "metadata": {},
   "outputs": [],
   "source": [
    "model.save_weights(\"./weights/model_weights\")"
   ]
  },
  {
   "cell_type": "code",
   "execution_count": null,
   "metadata": {},
   "outputs": [],
   "source": []
  }
 ],
 "metadata": {
  "kernelspec": {
   "display_name": "Python 3",
   "language": "python",
   "name": "python3"
  },
  "language_info": {
   "codemirror_mode": {
    "name": "ipython",
    "version": 3
   },
   "file_extension": ".py",
   "mimetype": "text/x-python",
   "name": "python",
   "nbconvert_exporter": "python",
   "pygments_lexer": "ipython3",
   "version": "3.9.0"
  }
 },
 "nbformat": 4,
 "nbformat_minor": 2
}
