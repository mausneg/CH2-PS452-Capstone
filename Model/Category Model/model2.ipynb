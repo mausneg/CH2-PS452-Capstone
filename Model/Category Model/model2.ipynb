{
 "cells": [
  {
   "cell_type": "code",
   "execution_count": 95,
   "metadata": {},
   "outputs": [],
   "source": [
    "import tensorflow_recommenders as tfrs\n",
    "import tensorflow as tf\n",
    "import pandas as pd\n",
    "import numpy as np\n",
    "from typing import Dict, Text"
   ]
  },
  {
   "cell_type": "code",
   "execution_count": 96,
   "metadata": {},
   "outputs": [],
   "source": [
    "df_ratings = pd.read_csv(\"../../Dataset/Tourism Rating/ratings.csv\")   \n",
    "df_tourism = pd.read_csv(\"../../Dataset/Tourism/tourism_encoded.csv\")\n"
   ]
  },
  {
   "cell_type": "code",
   "execution_count": 97,
   "metadata": {},
   "outputs": [
    {
     "data": {
      "text/plain": [
       "Index(['Place_Id', 'Place_Name', 'User_Id', 'Place_Ratings'], dtype='object')"
      ]
     },
     "execution_count": 97,
     "metadata": {},
     "output_type": "execute_result"
    }
   ],
   "source": [
    "df_ratings.columns"
   ]
  },
  {
   "cell_type": "code",
   "execution_count": 98,
   "metadata": {},
   "outputs": [],
   "source": [
    "df_ratings['User_Id'] = df_ratings['User_Id'].astype('str')"
   ]
  },
  {
   "cell_type": "code",
   "execution_count": 99,
   "metadata": {},
   "outputs": [],
   "source": [
    "tourism = tf.data.Dataset.from_tensor_slices(dict(df_tourism))\n",
    "ratings = tf.data.Dataset.from_tensor_slices(dict(df_ratings))"
   ]
  },
  {
   "cell_type": "code",
   "execution_count": 100,
   "metadata": {},
   "outputs": [],
   "source": [
    "ratings = ratings.map(lambda x:{\n",
    "    \"user_id\":x[\"User_Id\"],\n",
    "    \"place_name\":x[\"Place_Name\"]\n",
    "})\n",
    "tourism = tourism.map(lambda x:x[\"Place_Name\"])"
   ]
  },
  {
   "cell_type": "code",
   "execution_count": 101,
   "metadata": {},
   "outputs": [
    {
     "name": "stdout",
     "output_type": "stream",
     "text": [
      "<MapDataset element_spec={'user_id': TensorSpec(shape=(), dtype=tf.string, name=None), 'place_name': TensorSpec(shape=(), dtype=tf.string, name=None)}>\n",
      "<MapDataset element_spec=TensorSpec(shape=(), dtype=tf.string, name=None)>\n"
     ]
    }
   ],
   "source": [
    "print(ratings)\n",
    "print(tourism)"
   ]
  },
  {
   "cell_type": "code",
   "execution_count": 102,
   "metadata": {},
   "outputs": [],
   "source": [
    "user_id_vocab = tf.keras.layers.StringLookup(mask_token=None)\n",
    "user_id_vocab.adapt(ratings.map(lambda x: x[\"user_id\"]))\n",
    "\n",
    "tourism_vocab = tf.keras.layers.StringLookup(mask_token=None)\n",
    "tourism_vocab.adapt(tourism)"
   ]
  },
  {
   "cell_type": "code",
   "execution_count": 103,
   "metadata": {},
   "outputs": [
    {
     "name": "stdout",
     "output_type": "stream",
     "text": [
      "['[UNK]', '267', '276', '40', '143', '17', '142', '54', '49', '242', '19', '184', '99', '289', '247', '227', '168', '157', '105', '91', '86', '74', '294', '179', '97', '53', '31', '28', '230', '198', '170', '159', '144', '126', '65', '38', '283', '274', '258', '206', '195', '194', '167', '146', '107', '45', '44', '33', '299', '27', '200', '187', '160', '131', '124', '116', '93', '92', '67', '58', '288', '228', '212', '208', '178', '173', '136', '94', '78', '287', '263', '262', '261', '260', '257', '250', '234', '224', '204', '182', '181', '145', '134', '84', '71', '57', '55', '297', '296', '286', '282', '277', '239', '231', '223', '201', '192', '175', '15', '149', '117', '76', '68', '64', '61', '30', '273', '26', '240', '226', '222', '216', '202', '165', '164', '139', '138', '137', '113', '108', '102', '96', '79', '63', '32', '292', '29', '285', '272', '265', '255', '248', '20', '189', '185', '18', '174', '163', '135', '133', '127', '123', '12', '118', '106', '9', '80', '5', '36', '281', '264', '25', '244', '235', '214', '158', '147', '14', '128', '120', '114', '104', '103', '98', '87', '83', '59', '51', '295', '268', '256', '243', '233', '23', '210', '193', '171', '162', '150', '129', '125', '90', '66', '56', '43', '37', '35', '290', '280', '238', '237', '229', '217', '215', '190', '172', '169', '161', '140', '122', '77', '70', '46', '42', '3', '298', '278', '269', '225', '220', '213', '203', '199', '196', '186', '176', '155', '152', '148', '112', '1', '85', '62', '52', '50', '246', '232', '22', '219', '218', '209', '2', '188', '177', '166', '16', '156', '154', '121', '100', '95', '8', '75', '72', '6', '291', '270', '266', '221', '211', '207', '183', '141', '132', '130', '110', '11', '10', '89', '88', '7', '284', '271', '251', '249', '191', '119', '111', '109', '101', '47', '4', '39', '300', '279', '253', '252', '245', '197', '34', '293', '236', '205', '180', '153', '13', '115', '82', '69', '41', '254', '241', '24', '81', '73', '275', '259', '48', '21', '151', '60']\n",
      "['[UNK]', 'Wot Batu', 'Wisata Mangrove Tapak', 'Wisata Lereng Kelir', 'Wisata Kuliner Pecenongan', 'Wisata Kraton Jogja', 'Wisata Kampung Krisan Clapar', 'Wisata Kaliurang', 'Wisata Eling Bening', 'Wisata Batu Kuda', 'Wisata Alam Wana Wisata Penggaron', 'Wisata Alam Mangrove Angke', 'Wisata Alam Kalibiru', 'Wisata Agro Edukatif Istana Susu Cibugary', 'Watu Mabur Mangunan', 'Watu Lumbung', 'Watu Gunung Ungaran', 'Watu Goyang', 'Waterpark Kenjeran Surabaya', 'Waterboom PIK (Pantai Indah Kapuk)', 'Water Park Bandung Indah', 'Water Blaster Bukit Candi Golf', 'Waduk Jatibarang', 'Upside Down World Bandung', 'Umbul Sidomukti', 'Tugu Proklamasi', 'Tugu Pal Putih Jogja', 'Tugu Muda Semarang', 'Trans Studio Bandung', 'Tirto Argo Siwarak', 'The World Landmarks - Merapi Park Yogyakarta', 'The Lost World Castle', 'The Lodge Maribaya', 'The Great Asia Africa', 'The Escape Hunt', 'Teras Cikapundung BBWS', 'Tektona Waterpark', 'Tebing Karaton', 'Tebing Breksi', 'Taman Vanda', 'Taman Tabanas', 'Taman Suropati', 'Taman Sungai Mudal', 'Taman Srigunting', 'Taman Spathodea', 'Taman Situ Lembang', 'Taman Sejarah Bandung', 'Taman Prestasi', 'Taman Pintar Yogyakarta', 'Taman Pelangi Yogyakarta', 'Taman Pelangi', 'Taman Pandanaran', 'Taman Mundu', 'Taman Miniatur Kereta Api', 'Taman Mini Indonesia Indah (TMII)', 'Taman Menteng', 'Taman Legenda Keong Emas', 'Taman Lapangan Banteng', 'Taman Lansia', 'Taman Lalu Lintas Ade Irma Suryani Nasution', 'Taman Kupu-Kupu Cihanjuang', 'Taman Kunang-Kunang', 'Taman Keputran', 'Taman Kasmaran', 'Taman Jomblo', 'Taman Ismail Marzuki', 'Taman Impian Jaya Ancol', 'Taman Hutan Tebet', 'Taman Hutan Raya Ir. H. Juanda', 'Taman Hutan Raya Ir. H. Djuanda', 'Taman Hiburan Rakyat', 'Taman Harmoni Keputih', 'Taman Flora Bratang Surabaya', 'Taman Film', 'Taman Ekspresi Dan Perpustakaan', 'Taman Cattleya', 'Taman Bungkul', 'Taman Bunga Cihideung', 'Taman Bunga Celosia', 'Taman Budaya Yogyakarta', 'Taman Budaya Jawa Barat', 'Taman Buah Surabaya', 'Taman Begonia', 'Taman Barunawati', 'Taman Balai Kota Bandung', 'Taman Badak', 'Taman Ayodya', 'Taman Air Mancur Menari Kenjeran', 'Taman Agrowisata Cilangkap', 'Tafso Barn', 'Surabaya North Quay', 'Surabaya Museum (Gedung Siola)', 'Sunrise Point Cukul', 'Sungai Palayangan', 'Sumur Gumuling', 'Sudut Pandang Bandung', 'Studio Alam Gamplong', 'Stone Garden Citatah', 'SnowBay Waterpark', 'Skyrink - Mall Taman Anggrek', 'Situs Warungboto', 'Situ Patenggang', 'Situ Cileunca', 'Sindu Kusuma Edupark (SKE)', 'Setu Babakan', 'Seribu Batu Songgo Langit', 'Sendang Geulis Kahuripan', 'Semarang Contemporary Art Gallery', 'Semarang Chinatown', 'Selasar Sunaryo Art Space', 'Sea World', 'Saung Angklung Mang Udjo', 'Sanghyang Heuleut', 'Sam Poo Kong Temple', 'Saloka Theme Park', 'Rumah Sipitung', 'Rumah Batik', 'Roemah Seni Sarasvati', 'Rainbow Garden', 'Rabbit Town', 'Puspa Iptek Sundial', 'Pura Giri Natha', 'Puncak Segoro', 'Puncak Pinus Becici', 'Puncak Kebun Buah Mangunan', 'Puncak Gunung Api Purba - Nglanggeran', 'Pulau Tidung', 'Pulau Semak Daun', 'Pulau Pramuka', 'Pulau Pelangi', 'Pulau Pari', 'Pulau Bidadari', 'Plaza Indonesia', 'Pintoe Langit Dahromo', 'Peta Park', 'Pesona Nirwana Waterpark & Cottages', 'Perpustakaan Nasional', 'Perkebunan Teh Malabar', 'Pemandian Air Panas Cimanggu', 'Pemandian Air Panas Ciater', 'Pelabuhan Marina', 'Pecinan Glodok', 'Patung Sura dan Buaya', 'Patung Buddha Empat Rupa', 'Pasar Tanah Abang', 'Pasar Taman Puring', 'Pasar Seni', 'Pasar Petak Sembilan', 'Pasar Kebon Empring Bintaran', 'Pasar Beringharjo', 'Pasar Baru', 'Pantai Wediombo', 'Pantai Watu Kodok', 'Pantai Timang', 'Pantai Sundak', 'Pantai Siung', 'Pantai Sepanjang', 'Pantai Sedahan', 'Pantai Sanglen', 'Pantai Samas', 'Pantai Sadranan', 'Pantai Ria Kenjeran', 'Pantai Pulang Sawal', 'Pantai Pok Tunggal', 'Pantai Patihan', 'Pantai Parangtritis', 'Pantai Nguluran', 'Pantai Ngrenehan', 'Pantai Ngrawe (Mesra)', 'Pantai Ngobaran', 'Pantai Nglambor', 'Pantai Ngandong', 'Pantai Maron', 'Pantai Marina', 'Pantai Kukup', 'Pantai Krakal', 'Pantai Kesirat', 'Pantai Jungwok', 'Pantai Jogan', 'Pantai Indrayanti', 'Pantai Greweng', 'Pantai Goa Cemara', 'Pantai Glagah', 'Pantai Drini', 'Pantai Depok Jogja', 'Pantai Congot', 'Pantai Cipta', 'Pantai Baruna', 'Pantai Baron', 'Pantai Ancol', 'Panghegar Waterboom Bandung', 'Panama Park 825', 'Orchid Forest Cikole', 'Old City 3D Trick Art Museum', 'Ocean Ecopark', 'Obyek Wisata Goa Kreo', 'Observatorium Bosscha', 'NuArt Sculpture Park', 'Nol Kilometer Jl.Malioboro', 'Museum Wayang', 'Museum Ullen Sentalu', 'Museum Tengah Kebun', 'Museum Tekstil', 'Museum Taman Prasasti', 'Museum TNI AL Loka Jala Crana', 'Museum Sumpah Pemuda', 'Museum Sri Baduga', 'Museum Sonobudoyo Unit I', 'Museum Sepuluh Nopember Kota Surabaya', 'Museum Seni Rupa dan Kramik', 'Museum Satria Mandala', 'Museum Sasmita Loka Ahmad Yani', 'Museum Pos Indonesia', 'Museum Perangko', 'Museum Pendidikan Nasional', 'Museum Nike Ardilla', 'Museum Nasional', 'Museum Mpu Tantular', 'Museum Mandala Wangsit Siliwangi', 'Museum Macan (Modern and Contemporary Art in Nusantara)', 'Museum Layang-layang', 'Museum Konferensi Asia Afrika', 'Museum Kesehatan Dr. Adhyatma', 'Museum Kereta Ambarawa', 'Museum Kebangkitan Nasional', 'Museum Joang 45', 'Museum Gunung Merapi', 'Museum Geologi Bandung', 'Museum Gedung Sate', 'Museum Fatahillah', 'Museum De Javasche Bank', 'Museum Benteng Vredeburg Yogyakarta', 'Museum Basoeki Abdullah', 'Museum Barli', 'Museum Bank Indonesia', 'Museum Bahari Jakarta', 'Mountain View Golf Club', 'Monumen Yogya Kembali', 'Monumen Tugu Pahlawan', 'Monumen Serangan Umum 1 Maret', 'Monumen Selamat Datang', 'Monumen Sanapati', 'Monumen Perjuangan Rakyat Jawa Barat', 'Monumen Palagan Ambarawa', 'Monumen Nasional', 'Monumen Kapal Selam', 'Monumen Jalesveva Jayamahe', 'Monumen Batik Yogyakarta', 'Monumen Bandung Lautan Api', 'Monumen Bambu Runcing Surabaya', 'Masjid Salman ITB', 'Masjid Raya Bandung', 'Masjid Pusdai', 'Masjid Nasional Al-Akbar', 'Masjid Muhammad Cheng Hoo', 'Masjid Kapal Semarang', 'Masjid Istiqlal', 'Masjid Daarut Tauhiid Bandung', 'Masjid Al-Imtizaj', 'Masjid Agung Ungaran', 'Masjid Agung Trans Studio Bandung', 'Margasatwa Muara Angke', 'Mall Thamrin City', 'Lereng Anteng Panoramic Coffee Place', 'Lembang Park & Zoo', 'Ledok Sambi', 'Lawangwangi Creative Space', 'Lawang Sewu', 'Lava Bantal', 'La Kana Chapel', 'Kyotoku Floating Market', 'Kota Tua', 'Kota Mini', 'Kota Lama Semarang', 'Klenteng Sanggar Agung', 'Klenteng Jin De Yuan', 'Kidzania', 'Kiara Artha Park', 'Keraton Yogyakarta', 'Keraton Surabaya', 'Kenjeran Park', 'Kebun Teh Nglinggo', 'Kebun Tanaman Obat Sari Alam', 'Kebun Binatang Surabaya', 'Kebun Binatang Ragunan', 'Kebun Binatang Bandung', 'Kebun Bibit Wonorejo', 'Kawasan Wisata Sosrowijayan', 'Kawasan Punclut', 'Kawasan Malioboro', 'Kawasan Kuliner BSM', 'Kawah Rengganis Cibuni', 'Kawah Putih', 'Kauman PakuAlaman Yogyakarta', 'Kampung Wisata Taman Sari', 'Kampung Wisata Sosro Menduran', 'Kampung Wisata Rejowinangun', 'Kampung Wisata Kadipaten', 'Kampung Wisata Dipowinatan', 'Kampung Tematik Jawi', 'Kampung Pelangi', 'Kampung Korea Bandung', 'Kampung Cina', 'Kampung Batu Malakasari', 'Kampung Batik Gedong Semarang', 'Kampoeng Tulip', 'Kampoeng Rawa', 'Kampoeng Kopi Banaran', 'Kampoeng Djadhoel Semarang', 'Jurang Tembelan Kanigoro', 'Jogja Exotarium', 'Jogja Bay Pirates Adventure Waterpark', 'Jendela Alam', 'Jembatan Pasupati', 'Jembatan Merah', 'Jembatan Kota Intan', 'Jembatan Biru Ambarawa', 'Jalan Braga', 'Jakarta Planetarium', 'Jakarta Aquarium dan Safari', 'Istana Negara Republik Indonesia', 'Indonesia Kaya Park', 'Hutan Wisata Tinjomoyo Semarang', 'Hutan Pinus Pengger', 'Hutan Pinus Kayon', 'Hutan Pinus Asri', 'Hutan Mangrove Kulon Progo', 'Hutan Kota Srengseng', 'Hutan Bambu Keputih', 'House of Sampoerna', 'Heha Sky View', 'Happyfarm Ciwidey', 'GunungTangkuban perahu', 'Gunung Papandayan', 'Gunung Manglayang', 'Gunung Lalakon', 'Gumuk Pasir Parangkusumo', 'Gua Pawon', 'Gua Maria Kerep Ambarawa', 'Gua Belanda', 'Grojogan Watu Purbo Bangunrejo', 'Green Village Gedangsari', 'Grand Maerakaca', 'Grand Indonesia Mall', 'Goa Rong', 'Goa Rancang Kencono', 'Goa Pindul', 'Goa Jomblang', 'Goa Cerme', 'Glamping Lakeside Rancabali', 'Gereja Tiberias Indonesia Bandung', 'Gereja Perawan Maria Tak Berdosa Surabaya', 'Gereja Katedral Santo Petrus Bandung', 'Gereja Katedral', 'Geoforest Watu Payung Turunan', 'Gembira Loka Zoo', 'Gedung Sate', 'Gedung Agung Yogyakarta', 'Galeri Nasional Indonesia', 'Galeri Indonesia Kaya', 'Galaxy Waterpark Jogja', 'GPIB Immanuel Semarang (Gereja Blenduk)', 'Freedom Library', 'Food Junction Grand Pakuwon', 'Flower Farm Setiya Aji', 'Farm House Susu Lembang', 'Embung Tambakboyo', 'Ekowisata Mangrove Wonorejo', 'Dusun Bambu', 'Durian Gardens and Tourism Education Watu Simbar', 'Dunia Fantasi', 'Desa Wisata Tembi', 'Desa Wisata Sungai Code Jogja Kota', 'Desa Wisata Rumah Domes/Teletubbies', 'Desa Wisata Pulesari', 'Desa Wisata Lembah Kalipancur', 'Desa Wisata Kelor', 'Desa Wisata Gamplong', 'De Mata Museum Jogja', 'Danau Rawa Pening', 'Dago Dreampark', 'Curug Tilu Leuwi Opat', 'Curug Malela', 'Curug Luhur Waterfall', 'Curug Dago', 'Curug Cipanas', 'Curug Cimahi', 'Curug Cilengkrang', 'Curug Bugbrug', 'Curug Batu Templek', 'Curug Aseupan', 'Curug Anom', 'Ciwangun Indah Camp Official', 'Ciputra Waterpark', 'Cibubur Garden Diary (Cibugary)', 'Chingu Cafe Little Seoul', 'Caringin Tilu', 'Candi Sewu', 'Candi Ratu Boko', 'Candi Prambanan', 'Candi Ijo', 'Candi Gedong Songo', 'Candi Donotirto', 'Candi Borobudur', 'Bunker Kaliadem Merapi', 'Bumi Perkemahan Cibubur', 'Bumi Perkemahan Batu Kuda', 'Bukit Wisata Pulepayung', 'Bukit Paralayang, Watugupit', 'Bukit Panguk Kediwung', 'Bukit Moko', 'Bukit Lintang Sewu', 'Bukit Jamur', 'Bukit Gantole Cililin', 'Bukit Bintang Yogyakarta', 'Bukit Bintang', 'Brown Canyon', 'Blue Lagoon Jogja', 'Benteng Pendem', 'Bentara Budaya Yogyakarta (BBY)', 'Bendung Lepen', 'Batununggal Indah Club', 'Bangsal Pagelaran', 'Bandros City Tour', 'Balai Kota Surabaya', 'Babakan Siliwangi City Forest Path Bandung', 'Atlantis Water Adventure', 'Atlantis Land Surabaya', 'Amazing Art World', 'Alun-alun Utara Keraton Yogyakarta', 'Alun-Alun Kota Bandung', 'Alun Alun Selatan Yogyakarta', 'Alive Museum Ancol', 'Air Terjun Sri Gethuk', 'Air Terjun Semirang', 'Air Terjun Kedung Pedut', 'Air Terjun Kali Pancur', 'Air Mancur Menari']\n"
     ]
    }
   ],
   "source": [
    "print(user_id_vocab.get_vocabulary())\n",
    "print(tourism_vocab.get_vocabulary())"
   ]
  },
  {
   "cell_type": "code",
   "execution_count": 155,
   "metadata": {},
   "outputs": [],
   "source": [
    "class CollaborativeModel(tfrs.Model):\n",
    "    def __init__(self):\n",
    "        super().__init__()\n",
    "        self.user_model = tf.keras.Sequential([\n",
    "            user_id_vocab,\n",
    "            tf.keras.layers.Embedding(user_id_vocab.vocabulary_size(), 16)\n",
    "        ])\n",
    "        self.tourism_model = tf.keras.Sequential([\n",
    "            tourism_vocab,\n",
    "            tf.keras.layers.Embedding(tourism_vocab.vocabulary_size(), 16)\n",
    "        ])\n",
    "        self.task = tfrs.tasks.Retrieval(\n",
    "            metrics=tfrs.metrics.FactorizedTopK(\n",
    "                candidates=tourism.batch(128).map(self.tourism_model)\n",
    "            )\n",
    "        )\n",
    "    def compute_loss(self, features, training=False):\n",
    "        user_embeddings = self.user_model(features[\"user_id\"])\n",
    "        tourism_embeddings = self.tourism_model(features[\"place_name\"])\n",
    "        return self.task(user_embeddings, tourism_embeddings)"
   ]
  },
  {
   "cell_type": "code",
   "execution_count": 156,
   "metadata": {},
   "outputs": [
    {
     "name": "stdout",
     "output_type": "stream",
     "text": [
      "Epoch 1/10\n"
     ]
    },
    {
     "name": "stdout",
     "output_type": "stream",
     "text": [
      "313/313 [==============================] - 33s 100ms/step - factorized_top_k/top_1_categorical_accuracy: 4.0000e-04 - factorized_top_k/top_5_categorical_accuracy: 0.0080 - factorized_top_k/top_10_categorical_accuracy: 0.0183 - factorized_top_k/top_50_categorical_accuracy: 0.1109 - factorized_top_k/top_100_categorical_accuracy: 0.2263 - loss: 110.4808 - regularization_loss: 0.0000e+00 - total_loss: 110.4808\n",
      "Epoch 2/10\n",
      "313/313 [==============================] - 32s 101ms/step - factorized_top_k/top_1_categorical_accuracy: 3.0000e-04 - factorized_top_k/top_5_categorical_accuracy: 0.0083 - factorized_top_k/top_10_categorical_accuracy: 0.0194 - factorized_top_k/top_50_categorical_accuracy: 0.1131 - factorized_top_k/top_100_categorical_accuracy: 0.2291 - loss: 110.4797 - regularization_loss: 0.0000e+00 - total_loss: 110.4797\n",
      "Epoch 3/10\n",
      "313/313 [==============================] - 33s 106ms/step - factorized_top_k/top_1_categorical_accuracy: 3.0000e-04 - factorized_top_k/top_5_categorical_accuracy: 0.0084 - factorized_top_k/top_10_categorical_accuracy: 0.0198 - factorized_top_k/top_50_categorical_accuracy: 0.1151 - factorized_top_k/top_100_categorical_accuracy: 0.2308 - loss: 110.4787 - regularization_loss: 0.0000e+00 - total_loss: 110.4787\n",
      "Epoch 4/10\n",
      "313/313 [==============================] - 31s 98ms/step - factorized_top_k/top_1_categorical_accuracy: 3.0000e-04 - factorized_top_k/top_5_categorical_accuracy: 0.0085 - factorized_top_k/top_10_categorical_accuracy: 0.0202 - factorized_top_k/top_50_categorical_accuracy: 0.1165 - factorized_top_k/top_100_categorical_accuracy: 0.2335 - loss: 110.4777 - regularization_loss: 0.0000e+00 - total_loss: 110.4777\n",
      "Epoch 5/10\n",
      "313/313 [==============================] - 35s 111ms/step - factorized_top_k/top_1_categorical_accuracy: 3.0000e-04 - factorized_top_k/top_5_categorical_accuracy: 0.0089 - factorized_top_k/top_10_categorical_accuracy: 0.0212 - factorized_top_k/top_50_categorical_accuracy: 0.1182 - factorized_top_k/top_100_categorical_accuracy: 0.2366 - loss: 110.4767 - regularization_loss: 0.0000e+00 - total_loss: 110.4767\n",
      "Epoch 6/10\n",
      "313/313 [==============================] - 39s 126ms/step - factorized_top_k/top_1_categorical_accuracy: 3.0000e-04 - factorized_top_k/top_5_categorical_accuracy: 0.0093 - factorized_top_k/top_10_categorical_accuracy: 0.0215 - factorized_top_k/top_50_categorical_accuracy: 0.1190 - factorized_top_k/top_100_categorical_accuracy: 0.2389 - loss: 110.4758 - regularization_loss: 0.0000e+00 - total_loss: 110.4758\n",
      "Epoch 7/10\n",
      "313/313 [==============================] - 24s 78ms/step - factorized_top_k/top_1_categorical_accuracy: 2.0000e-04 - factorized_top_k/top_5_categorical_accuracy: 0.0095 - factorized_top_k/top_10_categorical_accuracy: 0.0222 - factorized_top_k/top_50_categorical_accuracy: 0.1210 - factorized_top_k/top_100_categorical_accuracy: 0.2427 - loss: 110.4750 - regularization_loss: 0.0000e+00 - total_loss: 110.4750\n",
      "Epoch 8/10\n",
      "313/313 [==============================] - 34s 108ms/step - factorized_top_k/top_1_categorical_accuracy: 2.0000e-04 - factorized_top_k/top_5_categorical_accuracy: 0.0096 - factorized_top_k/top_10_categorical_accuracy: 0.0230 - factorized_top_k/top_50_categorical_accuracy: 0.1223 - factorized_top_k/top_100_categorical_accuracy: 0.2440 - loss: 110.4741 - regularization_loss: 0.0000e+00 - total_loss: 110.4741\n",
      "Epoch 9/10\n",
      "313/313 [==============================] - 37s 117ms/step - factorized_top_k/top_1_categorical_accuracy: 2.0000e-04 - factorized_top_k/top_5_categorical_accuracy: 0.0097 - factorized_top_k/top_10_categorical_accuracy: 0.0236 - factorized_top_k/top_50_categorical_accuracy: 0.1251 - factorized_top_k/top_100_categorical_accuracy: 0.2459 - loss: 110.4733 - regularization_loss: 0.0000e+00 - total_loss: 110.4733\n",
      "Epoch 10/10\n",
      "313/313 [==============================] - 37s 118ms/step - factorized_top_k/top_1_categorical_accuracy: 2.0000e-04 - factorized_top_k/top_5_categorical_accuracy: 0.0098 - factorized_top_k/top_10_categorical_accuracy: 0.0237 - factorized_top_k/top_50_categorical_accuracy: 0.1264 - factorized_top_k/top_100_categorical_accuracy: 0.2485 - loss: 110.4725 - regularization_loss: 0.0000e+00 - total_loss: 110.4725\n"
     ]
    },
    {
     "data": {
      "text/plain": [
       "<keras.callbacks.History at 0x203e4b9a2b0>"
      ]
     },
     "execution_count": 156,
     "metadata": {},
     "output_type": "execute_result"
    }
   ],
   "source": [
    "model = CollaborativeModel()\n",
    "model.compile(optimizer=tf.keras.optimizers.Adagrad())\n",
    "model.fit(ratings.batch(32), epochs=10)"
   ]
  },
  {
   "cell_type": "code",
   "execution_count": 159,
   "metadata": {},
   "outputs": [
    {
     "name": "stdout",
     "output_type": "stream",
     "text": [
      "Recommendations for user 1: [b'Surabaya Museum (Gedung Siola)' b'Pasar Beringharjo'\n",
      " b'Grojogan Watu Purbo Bangunrejo' b'Galeri Indonesia Kaya'\n",
      " b'Situ Cileunca' b'Kampung Wisata Rejowinangun' b'Pantai Sadranan'\n",
      " b'Umbul Sidomukti' b'Pelabuhan Marina' b'Sumur Gumuling']\n"
     ]
    }
   ],
   "source": [
    "index = tfrs.layers.factorized_top_k.BruteForce (model.user_model)\n",
    "no_user = 1\n",
    "index.index_from_dataset(tourism.batch(100).map(lambda place: (place,model.tourism_model(place))))\n",
    "_, titles = index(np.array([str(no_user)]))\n",
    "print(f\"Recommendations for user {no_user}: {titles[0,:10]}\")"
   ]
  },
  {
   "cell_type": "code",
   "execution_count": 160,
   "metadata": {},
   "outputs": [],
   "source": [
    "model.save_weights(\"./model2/model_weights\")"
   ]
  }
 ],
 "metadata": {
  "kernelspec": {
   "display_name": "Python 3",
   "language": "python",
   "name": "python3"
  },
  "language_info": {
   "codemirror_mode": {
    "name": "ipython",
    "version": 3
   },
   "file_extension": ".py",
   "mimetype": "text/x-python",
   "name": "python",
   "nbconvert_exporter": "python",
   "pygments_lexer": "ipython3",
   "version": "3.9.0"
  }
 },
 "nbformat": 4,
 "nbformat_minor": 2
}
